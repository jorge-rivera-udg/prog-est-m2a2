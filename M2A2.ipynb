{
  "nbformat": 4,
  "nbformat_minor": 0,
  "metadata": {
    "colab": {
      "provenance": [],
      "toc_visible": true,
      "authorship_tag": "ABX9TyManbXJcKBOVKY0oviUbuqR",
      "include_colab_link": true
    },
    "kernelspec": {
      "name": "python3",
      "display_name": "Python 3"
    },
    "language_info": {
      "name": "python"
    }
  },
  "cells": [
    {
      "cell_type": "markdown",
      "metadata": {
        "id": "view-in-github",
        "colab_type": "text"
      },
      "source": [
        "<a href=\"https://colab.research.google.com/github/jorge-rivera-udg/prog-est-m2a2/blob/main/M2A2.ipynb\" target=\"_parent\"><img src=\"https://colab.research.google.com/assets/colab-badge.svg\" alt=\"Open In Colab\"/></a>"
      ]
    },
    {
      "cell_type": "markdown",
      "source": [
        "# Programación Estructurada M2A2"
      ],
      "metadata": {
        "id": "8pqOUdk4BI1x"
      }
    },
    {
      "cell_type": "markdown",
      "source": [
        "### Ejercicio 01. Suma y promedio"
      ],
      "metadata": {
        "id": "8KQpwsusBO8X"
      }
    },
    {
      "cell_type": "markdown",
      "source": [
        "```\n",
        "\"\"\"\n",
        "    Pida números hasta que se introduzca un cero. Debe imprimir la suma y el promedio de\n",
        "    todos los números introducidos\n",
        "\"\"\"\n",
        "\n",
        "1.- Inicio\n",
        "2.- Inicializa variables\n",
        "    2.1.- num = 0\n",
        "    2.2.- suma = 0\n",
        "    2.3.- cont = 0\n",
        "3.- Pedir numero -> num\n",
        "4.- Mientras num != 0\n",
        "    4.1.- suma += num\n",
        "    4.2.- cont += 1\n",
        "    4.3.- Pedir numero -> num\n",
        "5.- Imprime: \"La suma de los numeros es: \" -> suma\n",
        "6.- Si cont > 0:\n",
        "    6.1.- Imprime: \"El promedio de los numeros es: \" -> suma/cont\n",
        "7.- Otro caso:\n",
        "    7.1.- Imprime: \"El promedio no puede calcularse, no hay valores introducidos\"\n",
        "8.- Fin\n",
        "```"
      ],
      "metadata": {
        "id": "OISCZNqwBV9d"
      }
    },
    {
      "cell_type": "markdown",
      "source": [
        "### Ejercicio 02. Vocales"
      ],
      "metadata": {
        "id": "L1vslzQrBbY6"
      }
    },
    {
      "cell_type": "markdown",
      "source": [
        "```\n",
        "\"\"\"\n",
        "    Pida caracteres e imprima ‘VOCAL’ si son vocales y ‘NO VOCAL’ en caso contrario,\n",
        "    el programa termina cuando se introduce un espacio\n",
        "\"\"\"\n",
        "\n",
        "1.- Inicio\n",
        "2.- Inicializa variables:\n",
        "    2.1.- vocales = ['a','e','i','o','u']\n",
        "    2.2.- caracter = ''\n",
        "3.- Pida un caracter -> caracter\n",
        "4.- Mientras caracter != ' '\n",
        "    4.1.- Si vocales contiene caracter:\n",
        "        4.1.1.- Imprime: \"VOCAL\"\n",
        "    4.2.- Otro caso:\n",
        "        4.2.1.- Imprime: \"NO VOCAL\"\n",
        "    4.3.- Pida un caracter -> caracter\n",
        "5.- Imprime: \"Ha intrpducido un espacio, termina programa\"\n",
        "6.- Fin\n",
        "```"
      ],
      "metadata": {
        "id": "ec74bKoSBjVR"
      }
    },
    {
      "cell_type": "markdown",
      "source": [
        "### Ejercicio 03. Pregunta"
      ],
      "metadata": {
        "id": "qgA5xqq_BvUG"
      }
    },
    {
      "cell_type": "code",
      "execution_count": 1,
      "metadata": {
        "colab": {
          "base_uri": "https://localhost:8080/"
        },
        "id": "xuiXaAR-BCzH",
        "outputId": "5997e0fc-0991-402f-9a77-5d5fd5568181"
      },
      "outputs": [
        {
          "output_type": "stream",
          "name": "stdout",
          "text": [
            "Bienvenido al programa\n",
            "Quieres terminar el programa?\n",
            "S/N: g\n",
            "Quieres terminar el programa?\n",
            "S/N: t\n",
            "Quieres terminar el programa?\n",
            "S/N: w\n",
            "Quieres terminar el programa?\n",
            "S/N: h\n",
            "Quieres terminar el programa?\n",
            "S/N: e\n",
            "Quieres terminar el programa?\n",
            "S/N: i\n",
            "Quieres terminar el programa?\n",
            "S/N: s\n",
            "Has decidido terminar el programa. Hasta la próxima\n"
          ]
        }
      ],
      "source": [
        "\"\"\"\n",
        "    Programa que pregunte una y otra vez si desea terminar el programa, salvo si se contesta S o s\n",
        "    (en mayúsculas o en minúsculas)\n",
        "\"\"\"\n",
        "\n",
        "# Mensaje de bienvenida\n",
        "print(\"Bienvenido al programa\")\n",
        "respuesta = \"N\"\n",
        "\n",
        "while respuesta != \"S\" and respuesta != \"s\":\n",
        "    print(\"Quieres terminar el programa?\")\n",
        "    respuesta = input(\"S/N: \")\n",
        "\n",
        "print(\"Has decidido terminar el programa. Hasta la próxima\")\n"
      ]
    },
    {
      "cell_type": "markdown",
      "source": [
        "### Ejercicio 04. ontraseña"
      ],
      "metadata": {
        "id": "JOCFPR7IKWib"
      }
    },
    {
      "cell_type": "code",
      "source": [
        "\"\"\"\n",
        "    programa que solicite una contraseña (el texto de la contraseña no es importante)\n",
        "    y la vuelva a solicitar hasta que las dos contraseñas coincidan, con un límite de\n",
        "    tres peticiones\n",
        "\"\"\"\n",
        "\n",
        "print(\"Escriba una contraseña\")\n",
        "contrasena = input(\"Contraseña: \")\n",
        "contador = 0\n",
        "while contador < 3:\n",
        "    print(\"Vuelva a escribir la contraseña\")\n",
        "    contrasena2 = input(\"Contraseña: \")\n",
        "    if contrasena == contrasena2:\n",
        "        print(\"Contraseña correcta\")\n",
        "        break\n",
        "    else:\n",
        "        print(\"Contraseña incorrecta\")\n",
        "        contador += 1\n",
        "\n",
        "if contador == 3:\n",
        "    print(\"Ha superado el número de intentos permitidos\")\n"
      ],
      "metadata": {
        "id": "yVJ8l3jfKjur"
      },
      "execution_count": null,
      "outputs": []
    },
    {
      "cell_type": "markdown",
      "source": [
        "### Ejercicio 05. Alcancia"
      ],
      "metadata": {
        "id": "PBk8iS7OKoPL"
      }
    },
    {
      "cell_type": "code",
      "source": [
        "\"\"\"\n",
        "    programa que simule una alcancía. El programa solicitará primero una cantidad, que será la\n",
        "    cantidad de dinero que queremos ahorrar. A continuación, el programa solicitará una y otra\n",
        "    vez las cantidades que se irán ahorrando, hasta que el total ahorrado iguale o supere al\n",
        "    objetivo. El programa comprobará que las cantidades sean positivas.\n",
        "\"\"\"\n",
        "\n",
        "ahorro = int(input(\"Introduzca el monto total a ahorrar: \"))\n",
        "total = 0\n",
        "while total < ahorro:\n",
        "    cantidad = int(input(\"Introduzca la cantidad a ahorrar: \"))\n",
        "    if cantidad > 0:\n",
        "        total += cantidad\n",
        "    else:\n",
        "        print(\"La cantidad a ahorrar debe ser positiva\")\n",
        "\n",
        "print(f\"Total ahorrado: {total}\")\n",
        "print(f\"Objetivo: {ahorro}\")\n"
      ],
      "metadata": {
        "colab": {
          "base_uri": "https://localhost:8080/"
        },
        "id": "WuDdXb4vK0UZ",
        "outputId": "d3056b16-00b7-4831-d7bc-078f220db3e4"
      },
      "execution_count": 2,
      "outputs": [
        {
          "output_type": "stream",
          "name": "stdout",
          "text": [
            "Introduzca el monto total a ahorrar: 1000\n",
            "Introduzca la cantidad a ahorrar: 234\n",
            "Introduzca la cantidad a ahorrar: 546\n",
            "Introduzca la cantidad a ahorrar: 123\n",
            "Introduzca la cantidad a ahorrar: 32\n",
            "Introduzca la cantidad a ahorrar: 26\n",
            "Introduzca la cantidad a ahorrar: 47\n",
            "Total ahorrado: 1008\n",
            "Objetivo: 1000\n"
          ]
        }
      ]
    }
  ]
}